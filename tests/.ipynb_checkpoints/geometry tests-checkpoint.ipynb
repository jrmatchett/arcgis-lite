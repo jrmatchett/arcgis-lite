{
 "cells": [
  {
   "cell_type": "code",
   "execution_count": 1,
   "id": "0d4502d8",
   "metadata": {},
   "outputs": [],
   "source": [
    "from shapely.geometry import Point, MultiPoint, LinearRing, Polygon,\\\n",
    "    MultiPolygon, LineString, MultiLineString\n",
    "\n",
    "from arcgis_lite import to_arcgis_geometry"
   ]
  },
  {
   "cell_type": "code",
   "execution_count": 2,
   "id": "e49f6172",
   "metadata": {},
   "outputs": [],
   "source": [
    "def tuples_to_lists(tuples):\n",
    "    return list(map(tuples_to_lists, tuples)) if isinstance(tuples, (list, tuple)) else tuples"
   ]
  },
  {
   "cell_type": "markdown",
   "id": "03ef3893",
   "metadata": {},
   "source": [
    "## Points"
   ]
  },
  {
   "cell_type": "code",
   "execution_count": 3,
   "id": "6b58e7d5",
   "metadata": {},
   "outputs": [
    {
     "data": {
      "image/svg+xml": [
       "<svg xmlns=\"http://www.w3.org/2000/svg\" xmlns:xlink=\"http://www.w3.org/1999/xlink\" width=\"100.0\" height=\"100.0\" viewBox=\"-1.0 -1.0 2.0 2.0\" preserveAspectRatio=\"xMinYMin meet\"><g transform=\"matrix(1,0,0,-1,0,0.0)\"><circle cx=\"0.0\" cy=\"0.0\" r=\"0.06\" stroke=\"#555555\" stroke-width=\"0.02\" fill=\"#66cc99\" opacity=\"0.6\" /></g></svg>"
      ],
      "text/plain": [
       "<shapely.geometry.point.Point at 0x7f883b48a550>"
      ]
     },
     "execution_count": 3,
     "metadata": {},
     "output_type": "execute_result"
    }
   ],
   "source": [
    "point = Point(0.0, 0.0)\n",
    "point"
   ]
  },
  {
   "cell_type": "code",
   "execution_count": 4,
   "id": "6c57e6a2",
   "metadata": {},
   "outputs": [
    {
     "data": {
      "text/plain": [
       "{'x': 0.0, 'y': 0.0, 'spatialReference': {'wkid': 3857}}"
      ]
     },
     "execution_count": 4,
     "metadata": {},
     "output_type": "execute_result"
    }
   ],
   "source": [
    "to_arcgis_geometry(point, 3857)"
   ]
  },
  {
   "cell_type": "code",
   "execution_count": 5,
   "id": "7e54f616",
   "metadata": {},
   "outputs": [
    {
     "data": {
      "image/svg+xml": [
       "<svg xmlns=\"http://www.w3.org/2000/svg\" xmlns:xlink=\"http://www.w3.org/1999/xlink\" width=\"100.0\" height=\"100.0\" viewBox=\"-0.04 -0.04 1.08 1.08\" preserveAspectRatio=\"xMinYMin meet\"><g transform=\"matrix(1,0,0,-1,0,1.0)\"><g><circle cx=\"0.0\" cy=\"0.0\" r=\"0.0324\" stroke=\"#555555\" stroke-width=\"0.0108\" fill=\"#66cc99\" opacity=\"0.6\" /><circle cx=\"1.0\" cy=\"1.0\" r=\"0.0324\" stroke=\"#555555\" stroke-width=\"0.0108\" fill=\"#66cc99\" opacity=\"0.6\" /></g></g></svg>"
      ],
      "text/plain": [
       "<shapely.geometry.multipoint.MultiPoint at 0x7f883cbdac40>"
      ]
     },
     "execution_count": 5,
     "metadata": {},
     "output_type": "execute_result"
    }
   ],
   "source": [
    "points = MultiPoint([(0.0, 0.0), (1.0, 1.0)])\n",
    "points"
   ]
  },
  {
   "cell_type": "code",
   "execution_count": 6,
   "id": "235f0b29",
   "metadata": {},
   "outputs": [
    {
     "data": {
      "text/plain": [
       "((0.0, 0.0), (1.0, 1.0))"
      ]
     },
     "execution_count": 6,
     "metadata": {},
     "output_type": "execute_result"
    }
   ],
   "source": [
    "points.__geo_interface__['coordinates']"
   ]
  },
  {
   "cell_type": "code",
   "execution_count": 7,
   "id": "7d553777",
   "metadata": {},
   "outputs": [
    {
     "data": {
      "text/plain": [
       "[[0.0, 0.0], [1.0, 1.0]]"
      ]
     },
     "execution_count": 7,
     "metadata": {},
     "output_type": "execute_result"
    }
   ],
   "source": [
    "tuples_to_lists(points.__geo_interface__['coordinates'])"
   ]
  },
  {
   "cell_type": "code",
   "execution_count": 8,
   "id": "634adb34",
   "metadata": {},
   "outputs": [
    {
     "data": {
      "text/plain": [
       "{'points': [[0.0, 0.0], [1.0, 1.0]], 'spatialReference': {'wkid': 3857}}"
      ]
     },
     "execution_count": 8,
     "metadata": {},
     "output_type": "execute_result"
    }
   ],
   "source": [
    "to_arcgis_geometry(points, 3857)"
   ]
  },
  {
   "cell_type": "markdown",
   "id": "6770622e",
   "metadata": {},
   "source": [
    "## Lines"
   ]
  },
  {
   "cell_type": "code",
   "execution_count": 9,
   "id": "fe09c518",
   "metadata": {},
   "outputs": [
    {
     "data": {
      "image/svg+xml": [
       "<svg xmlns=\"http://www.w3.org/2000/svg\" xmlns:xlink=\"http://www.w3.org/1999/xlink\" width=\"100.0\" height=\"100.0\" viewBox=\"-0.08 -0.08 2.16 2.16\" preserveAspectRatio=\"xMinYMin meet\"><g transform=\"matrix(1,0,0,-1,0,2.0)\"><polyline fill=\"none\" stroke=\"#66cc99\" stroke-width=\"0.0432\" points=\"0.0,0.0 1.0,1.0 1.0,2.0 2.0,2.0\" opacity=\"0.8\" /></g></svg>"
      ],
      "text/plain": [
       "<shapely.geometry.linestring.LineString at 0x7f883cbda910>"
      ]
     },
     "execution_count": 9,
     "metadata": {},
     "output_type": "execute_result"
    }
   ],
   "source": [
    "a = LineString([(0, 0), (1, 1), (1,2), (2,2)])\n",
    "a"
   ]
  },
  {
   "cell_type": "code",
   "execution_count": 10,
   "id": "ee6f6e1c",
   "metadata": {},
   "outputs": [
    {
     "data": {
      "text/plain": [
       "((0.0, 0.0), (1.0, 1.0), (1.0, 2.0), (2.0, 2.0))"
      ]
     },
     "execution_count": 10,
     "metadata": {},
     "output_type": "execute_result"
    }
   ],
   "source": [
    "a.__geo_interface__['coordinates']"
   ]
  },
  {
   "cell_type": "code",
   "execution_count": 13,
   "id": "9ca2b751",
   "metadata": {},
   "outputs": [
    {
     "data": {
      "text/plain": [
       "[[0.0, 0.0], [1.0, 1.0], [1.0, 2.0], [2.0, 2.0]]"
      ]
     },
     "execution_count": 13,
     "metadata": {},
     "output_type": "execute_result"
    }
   ],
   "source": [
    "tuples_to_lists(a.__geo_interface__['coordinates'])"
   ]
  },
  {
   "cell_type": "code",
   "execution_count": 14,
   "id": "5102c642",
   "metadata": {},
   "outputs": [
    {
     "data": {
      "text/plain": [
       "{'paths': [[[0.0, 0.0], [1.0, 1.0], [1.0, 2.0], [2.0, 2.0]]],\n",
       " 'spatialReference': {'wkid': 3857}}"
      ]
     },
     "execution_count": 14,
     "metadata": {},
     "output_type": "execute_result"
    }
   ],
   "source": [
    "to_arcgis_geometry(a, 3857)"
   ]
  },
  {
   "cell_type": "code",
   "execution_count": 15,
   "id": "dbeb0e1f",
   "metadata": {},
   "outputs": [
    {
     "data": {
      "image/svg+xml": [
       "<svg xmlns=\"http://www.w3.org/2000/svg\" xmlns:xlink=\"http://www.w3.org/1999/xlink\" width=\"100.0\" height=\"100.0\" viewBox=\"-0.08 -0.08 2.16 2.16\" preserveAspectRatio=\"xMinYMin meet\"><g transform=\"matrix(1,0,0,-1,0,2.0)\"><g><polyline fill=\"none\" stroke=\"#66cc99\" stroke-width=\"0.0432\" points=\"0.0,0.0 1.0,1.0 1.0,2.0 2.0,2.0\" opacity=\"0.8\" /><polyline fill=\"none\" stroke=\"#66cc99\" stroke-width=\"0.0432\" points=\"0.0,0.0 1.0,1.0 2.0,1.0 2.0,2.0\" opacity=\"0.8\" /></g></g></svg>"
      ],
      "text/plain": [
       "<shapely.geometry.multilinestring.MultiLineString at 0x7f883cbfe3d0>"
      ]
     },
     "execution_count": 15,
     "metadata": {},
     "output_type": "execute_result"
    }
   ],
   "source": [
    "b = LineString([(0, 0), (1, 1), (2,1), (2,2)])\n",
    "c = MultiLineString([a,b])\n",
    "c"
   ]
  },
  {
   "cell_type": "code",
   "execution_count": 16,
   "id": "384b2749",
   "metadata": {},
   "outputs": [
    {
     "data": {
      "text/plain": [
       "(((0.0, 0.0), (1.0, 1.0), (1.0, 2.0), (2.0, 2.0)),\n",
       " ((0.0, 0.0), (1.0, 1.0), (2.0, 1.0), (2.0, 2.0)))"
      ]
     },
     "execution_count": 16,
     "metadata": {},
     "output_type": "execute_result"
    }
   ],
   "source": [
    "c.__geo_interface__['coordinates']"
   ]
  },
  {
   "cell_type": "code",
   "execution_count": 17,
   "id": "534ab990",
   "metadata": {},
   "outputs": [
    {
     "data": {
      "text/plain": [
       "[[[0.0, 0.0], [1.0, 1.0], [1.0, 2.0], [2.0, 2.0]],\n",
       " [[0.0, 0.0], [1.0, 1.0], [2.0, 1.0], [2.0, 2.0]]]"
      ]
     },
     "execution_count": 17,
     "metadata": {},
     "output_type": "execute_result"
    }
   ],
   "source": [
    "tuples_to_lists(c.__geo_interface__['coordinates'])"
   ]
  },
  {
   "cell_type": "code",
   "execution_count": 18,
   "id": "e944bdda",
   "metadata": {},
   "outputs": [
    {
     "data": {
      "text/plain": [
       "{'paths': [[[0.0, 0.0], [1.0, 1.0], [1.0, 2.0], [2.0, 2.0]],\n",
       "  [[0.0, 0.0], [1.0, 1.0], [2.0, 1.0], [2.0, 2.0]]],\n",
       " 'spatialReference': {'wkid': 3857}}"
      ]
     },
     "execution_count": 18,
     "metadata": {},
     "output_type": "execute_result"
    }
   ],
   "source": [
    "to_arcgis_geometry(c, 3857)"
   ]
  },
  {
   "cell_type": "markdown",
   "id": "fd8e1ae2",
   "metadata": {},
   "source": [
    "## Polygons"
   ]
  },
  {
   "cell_type": "code",
   "execution_count": 19,
   "id": "6ef0688f",
   "metadata": {},
   "outputs": [
    {
     "data": {
      "image/svg+xml": [
       "<svg xmlns=\"http://www.w3.org/2000/svg\" xmlns:xlink=\"http://www.w3.org/1999/xlink\" width=\"100.0\" height=\"100.0\" viewBox=\"-0.04 -0.04 1.08 1.08\" preserveAspectRatio=\"xMinYMin meet\"><g transform=\"matrix(1,0,0,-1,0,1.0)\"><path fill-rule=\"evenodd\" fill=\"#66cc99\" stroke=\"#555555\" stroke-width=\"0.0216\" opacity=\"0.6\" d=\"M 0.0,0.0 L 1.0,1.0 L 1.0,0.0 L 0.0,0.0 z\" /></g></svg>"
      ],
      "text/plain": [
       "<shapely.geometry.polygon.Polygon at 0x7f883cbfee20>"
      ]
     },
     "execution_count": 19,
     "metadata": {},
     "output_type": "execute_result"
    }
   ],
   "source": [
    "polygon = Polygon([(0, 0), (1, 1), (1, 0)])\n",
    "polygon"
   ]
  },
  {
   "cell_type": "code",
   "execution_count": 20,
   "id": "cfb07c4a",
   "metadata": {},
   "outputs": [
    {
     "data": {
      "text/plain": [
       "(((0.0, 0.0), (1.0, 1.0), (1.0, 0.0), (0.0, 0.0)),)"
      ]
     },
     "execution_count": 20,
     "metadata": {},
     "output_type": "execute_result"
    }
   ],
   "source": [
    "polygon.__geo_interface__['coordinates']"
   ]
  },
  {
   "cell_type": "code",
   "execution_count": 21,
   "id": "d20f1007",
   "metadata": {},
   "outputs": [
    {
     "data": {
      "text/plain": [
       "[[[0.0, 0.0], [1.0, 1.0], [1.0, 0.0], [0.0, 0.0]]]"
      ]
     },
     "execution_count": 21,
     "metadata": {},
     "output_type": "execute_result"
    }
   ],
   "source": [
    "tuples_to_lists(polygon.__geo_interface__['coordinates'])"
   ]
  },
  {
   "cell_type": "code",
   "execution_count": 22,
   "id": "e2f78f42",
   "metadata": {},
   "outputs": [
    {
     "data": {
      "text/plain": [
       "{'rings': [[[0.0, 0.0], [1.0, 1.0], [1.0, 0.0], [0.0, 0.0]]],\n",
       " 'spatialReference': {'wkid': 3857}}"
      ]
     },
     "execution_count": 22,
     "metadata": {},
     "output_type": "execute_result"
    }
   ],
   "source": [
    "to_arcgis_geometry(polygon, 3857)"
   ]
  },
  {
   "cell_type": "code",
   "execution_count": 48,
   "id": "91c77e1a",
   "metadata": {},
   "outputs": [
    {
     "data": {
      "image/svg+xml": [
       "<svg xmlns=\"http://www.w3.org/2000/svg\" xmlns:xlink=\"http://www.w3.org/1999/xlink\" width=\"100.0\" height=\"100.0\" viewBox=\"-1.12 -1.12 3.24 3.24\" preserveAspectRatio=\"xMinYMin meet\"><g transform=\"matrix(1,0,0,-1,0,1.0)\"><g><path fill-rule=\"evenodd\" fill=\"#ff3333\" stroke=\"#555555\" stroke-width=\"0.06480000000000001\" opacity=\"0.6\" d=\"M 0.0,0.0 L 1.0,1.0 L 1.0,0.0 L 0.0,0.0 z\" /><path fill-rule=\"evenodd\" fill=\"#ff3333\" stroke=\"#555555\" stroke-width=\"0.06480000000000001\" opacity=\"0.6\" d=\"M 0.24142135623730948,0.1 L 0.9,0.7585786437626905 L 0.9,0.1 L 0.24142135623730948,0.1 z\" /><path fill-rule=\"evenodd\" fill=\"#ff3333\" stroke=\"#555555\" stroke-width=\"0.06480000000000001\" opacity=\"0.6\" d=\"M 0.0,-1.0 L -0.09801714032956664,-0.9951847266721963 L -0.19509032201613388,-0.9807852804032293 L -0.2902846772544675,-0.9569403357322073 L -0.38268343236509444,-0.9238795325112849 L -0.4713967368260018,-0.8819212643483528 L -0.5555702330196066,-0.8314696123025422 L -0.6343932841636494,-0.7730104533627338 L -0.7071067811865505,-0.7071067811865446 L -0.7730104533627397,-0.6343932841636423 L -0.8314696123025475,-0.555570233019599 L -0.8819212643483567,-0.4713967368259945 L -0.923879532511288,-0.3826834323650868 L -0.9569403357322097,-0.2902846772544596 L -0.980785280403231,-0.19509032201612575 L -0.9951847266721972,-0.09801714032955837 L -1.0,1.8988215193149856e-15 L -0.9951847266721967,0.09801714032956216 L -0.9807852804032301,0.19509032201612989 L -0.9569403357322085,0.2902846772544636 L -0.9238795325112864,0.38268343236509067 L -0.8819212643483547,0.4713967368259982 L -0.831469612302545,0.5555702330196025 L -0.7730104533627367,0.6343932841636458 L -0.7071067811865475,0.7071067811865475 L 0.29289321881345254,1.7071067811865475 L 0.36560671583635473,1.773010453362737 L 0.44442976698039804,1.8314696123025453 L 0.5286032631740023,1.881921264348355 L 0.6173165676349103,1.9238795325112867 L 0.7097153227455377,1.956940335732209 L 0.8049096779838718,1.9807852804032304 L 0.9019828596704393,1.995184726672197 L 1.0,2.0 L 1.0980171403295609,1.9951847266721967 L 1.1950903220161284,1.9807852804032304 L 1.2902846772544623,1.956940335732209 L 1.3826834323650898,1.9238795325112867 L 1.471396736825998,1.881921264348355 L 1.5555702330196022,1.8314696123025451 L 1.6343932841636455,1.7730104533627369 L 1.7071067811865475,1.7071067811865475 L 1.773010453362737,1.6343932841636453 L 1.8314696123025453,1.5555702330196022 L 1.881921264348355,1.4713967368259977 L 1.9238795325112867,1.3826834323650898 L 1.956940335732209,1.2902846772544623 L 1.9807852804032304,1.1950903220161284 L 1.995184726672197,1.0980171403295607 L 2.0,1.0 L 2.0,0.0 L 1.995184726672197,-0.0980171403295606 L 1.9807852804032304,-0.19509032201612825 L 1.9569403357322088,-0.29028467725446233 L 1.9238795325112867,-0.3826834323650898 L 1.881921264348355,-0.47139673682599764 L 1.8314696123025453,-0.5555702330196022 L 1.7730104533627369,-0.6343932841636455 L 1.7071067811865475,-0.7071067811865475 L 1.6343932841636457,-0.7730104533627369 L 1.5555702330196022,-0.8314696123025451 L 1.471396736825998,-0.8819212643483549 L 1.3826834323650898,-0.9238795325112867 L 1.2902846772544623,-0.9569403357322089 L 1.1950903220161284,-0.9807852804032304 L 1.0980171403295609,-0.9951847266721968 L 1.0,-1.0 L 0.0,-1.0 z M 0.0,0.0 L 1.0,1.0 L 1.0,0.0 L 0.0,0.0 z\" /></g></g></svg>"
      ],
      "text/plain": [
       "<shapely.geometry.multipolygon.MultiPolygon at 0x7f883df2f7f0>"
      ]
     },
     "execution_count": 48,
     "metadata": {},
     "output_type": "execute_result"
    }
   ],
   "source": [
    "coords = [(0, 0), (1, 1), (1, 0)]\n",
    "r = LinearRing(coords)\n",
    "s = Polygon(r)\n",
    "t = Polygon(s.buffer(1.0).exterior, [r])\n",
    "polygons = MultiPolygon([polygon, s.buffer(-0.1), t])\n",
    "polygons"
   ]
  },
  {
   "cell_type": "code",
   "execution_count": 53,
   "id": "87717e13",
   "metadata": {},
   "outputs": [
    {
     "data": {
      "image/svg+xml": [
       "<svg xmlns=\"http://www.w3.org/2000/svg\" xmlns:xlink=\"http://www.w3.org/1999/xlink\" width=\"100.0\" height=\"100.0\" viewBox=\"-1.12 -1.12 3.24 3.24\" preserveAspectRatio=\"xMinYMin meet\"><g transform=\"matrix(1,0,0,-1,0,1.0)\"><path fill-rule=\"evenodd\" fill=\"#66cc99\" stroke=\"#555555\" stroke-width=\"0.06480000000000001\" opacity=\"0.6\" d=\"M 0.0,-1.0 L -0.09801714032956664,-0.9951847266721963 L -0.19509032201613388,-0.9807852804032293 L -0.2902846772544675,-0.9569403357322073 L -0.38268343236509444,-0.9238795325112849 L -0.4713967368260018,-0.8819212643483528 L -0.5555702330196066,-0.8314696123025422 L -0.6343932841636494,-0.7730104533627338 L -0.7071067811865505,-0.7071067811865446 L -0.7730104533627397,-0.6343932841636423 L -0.8314696123025475,-0.555570233019599 L -0.8819212643483567,-0.4713967368259945 L -0.923879532511288,-0.3826834323650868 L -0.9569403357322097,-0.2902846772544596 L -0.980785280403231,-0.19509032201612575 L -0.9951847266721972,-0.09801714032955837 L -1.0,1.8988215193149856e-15 L -0.9951847266721967,0.09801714032956216 L -0.9807852804032301,0.19509032201612989 L -0.9569403357322085,0.2902846772544636 L -0.9238795325112864,0.38268343236509067 L -0.8819212643483547,0.4713967368259982 L -0.831469612302545,0.5555702330196025 L -0.7730104533627367,0.6343932841636458 L -0.7071067811865475,0.7071067811865475 L 0.29289321881345254,1.7071067811865475 L 0.36560671583635473,1.773010453362737 L 0.44442976698039804,1.8314696123025453 L 0.5286032631740023,1.881921264348355 L 0.6173165676349103,1.9238795325112867 L 0.7097153227455377,1.956940335732209 L 0.8049096779838718,1.9807852804032304 L 0.9019828596704393,1.995184726672197 L 1.0,2.0 L 1.0980171403295609,1.9951847266721967 L 1.1950903220161284,1.9807852804032304 L 1.2902846772544623,1.956940335732209 L 1.3826834323650898,1.9238795325112867 L 1.471396736825998,1.881921264348355 L 1.5555702330196022,1.8314696123025451 L 1.6343932841636455,1.7730104533627369 L 1.7071067811865475,1.7071067811865475 L 1.773010453362737,1.6343932841636453 L 1.8314696123025453,1.5555702330196022 L 1.881921264348355,1.4713967368259977 L 1.9238795325112867,1.3826834323650898 L 1.956940335732209,1.2902846772544623 L 1.9807852804032304,1.1950903220161284 L 1.995184726672197,1.0980171403295607 L 2.0,1.0 L 2.0,0.0 L 1.995184726672197,-0.0980171403295606 L 1.9807852804032304,-0.19509032201612825 L 1.9569403357322088,-0.29028467725446233 L 1.9238795325112867,-0.3826834323650898 L 1.881921264348355,-0.47139673682599764 L 1.8314696123025453,-0.5555702330196022 L 1.7730104533627369,-0.6343932841636455 L 1.7071067811865475,-0.7071067811865475 L 1.6343932841636457,-0.7730104533627369 L 1.5555702330196022,-0.8314696123025451 L 1.471396736825998,-0.8819212643483549 L 1.3826834323650898,-0.9238795325112867 L 1.2902846772544623,-0.9569403357322089 L 1.1950903220161284,-0.9807852804032304 L 1.0980171403295609,-0.9951847266721968 L 1.0,-1.0 L 0.0,-1.0 z M 0.0,0.0 L 1.0,1.0 L 1.0,0.0 L 0.0,0.0 z\" /></g></svg>"
      ],
      "text/plain": [
       "<shapely.geometry.polygon.Polygon at 0x7f883dfa6430>"
      ]
     },
     "execution_count": 53,
     "metadata": {},
     "output_type": "execute_result"
    }
   ],
   "source": [
    "t"
   ]
  },
  {
   "cell_type": "code",
   "execution_count": 54,
   "id": "27557211",
   "metadata": {},
   "outputs": [
    {
     "data": {
      "text/plain": [
       "{'rings': [[[0.0, -1.0],\n",
       "   [-0.09801714032956664, -0.9951847266721963],\n",
       "   [-0.19509032201613388, -0.9807852804032293],\n",
       "   [-0.2902846772544675, -0.9569403357322073],\n",
       "   [-0.38268343236509444, -0.9238795325112849],\n",
       "   [-0.4713967368260018, -0.8819212643483528],\n",
       "   [-0.5555702330196066, -0.8314696123025422],\n",
       "   [-0.6343932841636494, -0.7730104533627338],\n",
       "   [-0.7071067811865505, -0.7071067811865446],\n",
       "   [-0.7730104533627397, -0.6343932841636423],\n",
       "   [-0.8314696123025475, -0.555570233019599],\n",
       "   [-0.8819212643483567, -0.4713967368259945],\n",
       "   [-0.923879532511288, -0.3826834323650868],\n",
       "   [-0.9569403357322097, -0.2902846772544596],\n",
       "   [-0.980785280403231, -0.19509032201612575],\n",
       "   [-0.9951847266721972, -0.09801714032955837],\n",
       "   [-1.0, 1.8988215193149856e-15],\n",
       "   [-0.9951847266721967, 0.09801714032956216],\n",
       "   [-0.9807852804032301, 0.19509032201612989],\n",
       "   [-0.9569403357322085, 0.2902846772544636],\n",
       "   [-0.9238795325112864, 0.38268343236509067],\n",
       "   [-0.8819212643483547, 0.4713967368259982],\n",
       "   [-0.831469612302545, 0.5555702330196025],\n",
       "   [-0.7730104533627367, 0.6343932841636458],\n",
       "   [-0.7071067811865475, 0.7071067811865475],\n",
       "   [0.29289321881345254, 1.7071067811865475],\n",
       "   [0.36560671583635473, 1.773010453362737],\n",
       "   [0.44442976698039804, 1.8314696123025453],\n",
       "   [0.5286032631740023, 1.881921264348355],\n",
       "   [0.6173165676349103, 1.9238795325112867],\n",
       "   [0.7097153227455377, 1.956940335732209],\n",
       "   [0.8049096779838718, 1.9807852804032304],\n",
       "   [0.9019828596704393, 1.995184726672197],\n",
       "   [1.0, 2.0],\n",
       "   [1.0980171403295609, 1.9951847266721967],\n",
       "   [1.1950903220161284, 1.9807852804032304],\n",
       "   [1.2902846772544623, 1.956940335732209],\n",
       "   [1.3826834323650898, 1.9238795325112867],\n",
       "   [1.471396736825998, 1.881921264348355],\n",
       "   [1.5555702330196022, 1.8314696123025451],\n",
       "   [1.6343932841636455, 1.7730104533627369],\n",
       "   [1.7071067811865475, 1.7071067811865475],\n",
       "   [1.773010453362737, 1.6343932841636453],\n",
       "   [1.8314696123025453, 1.5555702330196022],\n",
       "   [1.881921264348355, 1.4713967368259977],\n",
       "   [1.9238795325112867, 1.3826834323650898],\n",
       "   [1.956940335732209, 1.2902846772544623],\n",
       "   [1.9807852804032304, 1.1950903220161284],\n",
       "   [1.995184726672197, 1.0980171403295607],\n",
       "   [2.0, 1.0],\n",
       "   [2.0, 0.0],\n",
       "   [1.995184726672197, -0.0980171403295606],\n",
       "   [1.9807852804032304, -0.19509032201612825],\n",
       "   [1.9569403357322088, -0.29028467725446233],\n",
       "   [1.9238795325112867, -0.3826834323650898],\n",
       "   [1.881921264348355, -0.47139673682599764],\n",
       "   [1.8314696123025453, -0.5555702330196022],\n",
       "   [1.7730104533627369, -0.6343932841636455],\n",
       "   [1.7071067811865475, -0.7071067811865475],\n",
       "   [1.6343932841636457, -0.7730104533627369],\n",
       "   [1.5555702330196022, -0.8314696123025451],\n",
       "   [1.471396736825998, -0.8819212643483549],\n",
       "   [1.3826834323650898, -0.9238795325112867],\n",
       "   [1.2902846772544623, -0.9569403357322089],\n",
       "   [1.1950903220161284, -0.9807852804032304],\n",
       "   [1.0980171403295609, -0.9951847266721968],\n",
       "   [1.0, -1.0],\n",
       "   [0.0, -1.0]],\n",
       "  [[0.0, 0.0], [1.0, 1.0], [1.0, 0.0], [0.0, 0.0]]],\n",
       " 'spatialReference': {'wkid': 3857}}"
      ]
     },
     "execution_count": 54,
     "metadata": {},
     "output_type": "execute_result"
    }
   ],
   "source": [
    "to_arcgis_geometry(t, 3857)"
   ]
  },
  {
   "cell_type": "code",
   "execution_count": null,
   "id": "1308bcdc",
   "metadata": {},
   "outputs": [],
   "source": []
  }
 ],
 "metadata": {
  "kernelspec": {
   "display_name": "Python 3 (ipykernel)",
   "language": "python",
   "name": "python3"
  },
  "language_info": {
   "codemirror_mode": {
    "name": "ipython",
    "version": 3
   },
   "file_extension": ".py",
   "mimetype": "text/x-python",
   "name": "python",
   "nbconvert_exporter": "python",
   "pygments_lexer": "ipython3",
   "version": "3.8.12"
  }
 },
 "nbformat": 4,
 "nbformat_minor": 5
}
