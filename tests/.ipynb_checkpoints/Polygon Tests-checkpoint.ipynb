{
 "cells": [
  {
   "cell_type": "code",
   "execution_count": 2,
   "id": "acb1d522",
   "metadata": {},
   "outputs": [],
   "source": [
    "import datetime as dt\n",
    "import pytz\n",
    "import psycopg2\n",
    "import geopandas as gpd\n",
    "from arcgis_lite import *\n",
    "import keyring"
   ]
  },
  {
   "cell_type": "code",
   "execution_count": null,
   "id": "735bf581",
   "metadata": {},
   "outputs": [],
   "source": [
    "with psycopg2.connect(dbname='red_cross', host='localhost') as con:\n",
    "    df = gpd.GeoDataFrame.from_postgis(\"select * from arc.test_polys\", con)"
   ]
  },
  {
   "cell_type": "code",
   "execution_count": null,
   "id": "9547c66e",
   "metadata": {},
   "outputs": [],
   "source": [
    "df"
   ]
  },
  {
   "cell_type": "code",
   "execution_count": null,
   "id": "b4568377",
   "metadata": {},
   "outputs": [],
   "source": [
    "pac_tz = pytz.timezone('US/Pacific')\n",
    "df['report_date'] = gpd.pd.date_range(pac_tz.localize(dt.datetime(2021,10,31,12)), periods=len(df))\n",
    "df"
   ]
  },
  {
   "cell_type": "code",
   "execution_count": null,
   "id": "01487e59",
   "metadata": {},
   "outputs": [],
   "source": [
    "df.geometry.name"
   ]
  },
  {
   "cell_type": "code",
   "execution_count": null,
   "id": "a9842698",
   "metadata": {},
   "outputs": [],
   "source": [
    "from arcgis_lite._geodata import arcgis_features"
   ]
  },
  {
   "cell_type": "code",
   "execution_count": null,
   "id": "71414cae",
   "metadata": {},
   "outputs": [],
   "source": [
    "arcgis_features(df)"
   ]
  },
  {
   "cell_type": "code",
   "execution_count": null,
   "id": "1f2069c8",
   "metadata": {
    "scrolled": false
   },
   "outputs": [],
   "source": [
    "m = df[['gid','name','geom']].explore()\n",
    "m"
   ]
  },
  {
   "cell_type": "code",
   "execution_count": 3,
   "id": "a0a49b5e",
   "metadata": {},
   "outputs": [],
   "source": [
    "gis = AgolGIS(\n",
    "    username='jrmatchett',\n",
    "    password=keyring.get_password('AGOL', 'jrmatchett')\n",
    ")"
   ]
  },
  {
   "cell_type": "code",
   "execution_count": 4,
   "id": "b3dbd3be",
   "metadata": {},
   "outputs": [
    {
     "data": {
      "text/plain": [
       "GIS @ https://www.arcgis.com"
      ]
     },
     "execution_count": 4,
     "metadata": {},
     "output_type": "execute_result"
    }
   ],
   "source": [
    "gis"
   ]
  },
  {
   "cell_type": "code",
   "execution_count": 5,
   "id": "8d93b072",
   "metadata": {},
   "outputs": [],
   "source": [
    "test_polys_layer = gis.feature_layer('f8aa2b777fd0480b8392da3d9f901deb', 0)"
   ]
  },
  {
   "cell_type": "code",
   "execution_count": null,
   "id": "670fdc31",
   "metadata": {},
   "outputs": [],
   "source": [
    "test_polys_layer.truncate_features()"
   ]
  },
  {
   "cell_type": "code",
   "execution_count": null,
   "id": "dc684895",
   "metadata": {},
   "outputs": [],
   "source": [
    "test_polys_layer.add_features(arcgis_features(df))"
   ]
  },
  {
   "cell_type": "code",
   "execution_count": 7,
   "id": "8cfabb94",
   "metadata": {},
   "outputs": [
    {
     "data": {
      "text/plain": [
       "FeatureSet with 5 polygon features"
      ]
     },
     "execution_count": 7,
     "metadata": {},
     "output_type": "execute_result"
    }
   ],
   "source": [
    "test_polys = test_polys_layer.query()\n",
    "test_polys"
   ]
  },
  {
   "cell_type": "code",
   "execution_count": 8,
   "id": "763591a7",
   "metadata": {},
   "outputs": [
    {
     "data": {
      "text/plain": [
       "{'properties': {'geometryType': 'esriGeometryPolygon',\n",
       "  'spatialReference': {'wkid': 102100, 'latestWkid': 3857},\n",
       "  'fields': [{'name': 'OBJECTID',\n",
       "    'type': 'esriFieldTypeOID',\n",
       "    'alias': 'OBJECTID',\n",
       "    'sqlType': 'sqlTypeOther',\n",
       "    'domain': None,\n",
       "    'defaultValue': None},\n",
       "   {'name': 'gid',\n",
       "    'type': 'esriFieldTypeInteger',\n",
       "    'alias': 'gid',\n",
       "    'sqlType': 'sqlTypeInteger',\n",
       "    'domain': None,\n",
       "    'defaultValue': None},\n",
       "   {'name': 'name',\n",
       "    'type': 'esriFieldTypeString',\n",
       "    'alias': 'name',\n",
       "    'sqlType': 'sqlTypeNVarchar',\n",
       "    'length': 256,\n",
       "    'domain': None,\n",
       "    'defaultValue': None},\n",
       "   {'name': 'Shape__Area',\n",
       "    'type': 'esriFieldTypeDouble',\n",
       "    'alias': 'Shape__Area',\n",
       "    'sqlType': 'sqlTypeDouble',\n",
       "    'domain': None,\n",
       "    'defaultValue': None},\n",
       "   {'name': 'Shape__Length',\n",
       "    'type': 'esriFieldTypeDouble',\n",
       "    'alias': 'Shape__Length',\n",
       "    'sqlType': 'sqlTypeDouble',\n",
       "    'domain': None,\n",
       "    'defaultValue': None},\n",
       "   {'name': 'report_date',\n",
       "    'type': 'esriFieldTypeDate',\n",
       "    'alias': 'report_date',\n",
       "    'sqlType': 'sqlTypeOther',\n",
       "    'length': 0,\n",
       "    'domain': None,\n",
       "    'defaultValue': None},\n",
       "   {'name': 'GlobalID',\n",
       "    'type': 'esriFieldTypeGlobalID',\n",
       "    'alias': 'GlobalID',\n",
       "    'sqlType': 'sqlTypeOther',\n",
       "    'length': 38,\n",
       "    'domain': None},\n",
       "   {'name': 'CreationDate',\n",
       "    'type': 'esriFieldTypeDate',\n",
       "    'alias': 'CreationDate',\n",
       "    'sqlType': 'sqlTypeOther',\n",
       "    'length': 8,\n",
       "    'domain': None,\n",
       "    'defaultValue': None},\n",
       "   {'name': 'Creator',\n",
       "    'type': 'esriFieldTypeString',\n",
       "    'alias': 'Creator',\n",
       "    'sqlType': 'sqlTypeOther',\n",
       "    'length': 128,\n",
       "    'domain': None,\n",
       "    'defaultValue': None},\n",
       "   {'name': 'EditDate',\n",
       "    'type': 'esriFieldTypeDate',\n",
       "    'alias': 'EditDate',\n",
       "    'sqlType': 'sqlTypeOther',\n",
       "    'length': 8,\n",
       "    'domain': None,\n",
       "    'defaultValue': None},\n",
       "   {'name': 'Editor',\n",
       "    'type': 'esriFieldTypeString',\n",
       "    'alias': 'Editor',\n",
       "    'sqlType': 'sqlTypeOther',\n",
       "    'length': 128,\n",
       "    'domain': None,\n",
       "    'defaultValue': None}]},\n",
       " 'features': [{'attributes': {'OBJECTID': 1,\n",
       "    'gid': 1,\n",
       "    'name': 'simple',\n",
       "    'Shape__Area': 20801977.03125,\n",
       "    'Shape__Length': 17689.1817799103,\n",
       "    'report_date': 1635706800000,\n",
       "    'GlobalID': '912af894-6c65-44bb-9636-1525d59152f8',\n",
       "    'CreationDate': 1636561296287,\n",
       "    'Creator': 'jrmatchett',\n",
       "    'EditDate': 1636561296287,\n",
       "    'Editor': 'jrmatchett'},\n",
       "   'geometry': {'rings': [[[-13347483.6200282, 4451807.19140963],\n",
       "      [-13345600.2925015, 4452311.65413997],\n",
       "      [-13342338.1001787, 4450226.54152123],\n",
       "      [-13344658.6287382, 4446459.88646802],\n",
       "      [-13348223.4986993, 4448612.26078414],\n",
       "      [-13348223.4986993, 4448612.26078414],\n",
       "      [-13347483.6200282, 4451807.19140963]]]}},\n",
       "  {'attributes': {'OBJECTID': 2,\n",
       "    'gid': 2,\n",
       "    'name': 'multipart',\n",
       "    'Shape__Area': 24143051.4101563,\n",
       "    'Shape__Length': 30098.43211172,\n",
       "    'report_date': 1635793200000,\n",
       "    'GlobalID': '2b4d7662-fcd3-45a9-8203-af607f6c7a7a',\n",
       "    'CreationDate': 1636561296287,\n",
       "    'Creator': 'jrmatchett',\n",
       "    'EditDate': 1636561296287,\n",
       "    'Editor': 'jrmatchett'},\n",
       "   'geometry': {'rings': [[[-13340891.973685, 4453925.93487706],\n",
       "      [-13338840.491915, 4455977.41664711],\n",
       "      [-13334569.3741314, 4454060.45827182],\n",
       "      [-13336351.809112, 4451269.0978306],\n",
       "      [-13339344.9546453, 4451706.29886356],\n",
       "      [-13340891.973685, 4453925.93487706]],\n",
       "     [[-13334670.2666775, 4452177.13074521],\n",
       "      [-13333863.126309, 4453051.53281114],\n",
       "      [-13332517.8923614, 4452580.70092949],\n",
       "      [-13332786.9391509, 4450764.63510026],\n",
       "      [-13334165.8039472, 4450966.4201924],\n",
       "      [-13334670.2666775, 4452177.13074521]],\n",
       "     [[-13335611.9304408, 4456650.0336209],\n",
       "      [-13334132.1730985, 4457120.86550255],\n",
       "      [-13333392.2944273, 4455910.15494974],\n",
       "      [-13333829.4954603, 4455372.06137071],\n",
       "      [-13335107.4677105, 4455372.06137071],\n",
       "      [-13335611.9304408, 4456650.0336209]]]}},\n",
       "  {'attributes': {'OBJECTID': 3,\n",
       "    'gid': 3,\n",
       "    'name': 'simple with hole',\n",
       "    'Shape__Area': 7445596.71875,\n",
       "    'Shape__Length': 16353.501388827,\n",
       "    'report_date': 1635879600000,\n",
       "    'GlobalID': '0cedc5fb-436e-4301-9256-affa5e2e3420',\n",
       "    'CreationDate': 1636561296287,\n",
       "    'Creator': 'jrmatchett',\n",
       "    'EditDate': 1636561296287,\n",
       "    'Editor': 'jrmatchett'},\n",
       "   'geometry': {'rings': [[[-13339244.0620993, 4447536.07362608],\n",
       "      [-13336822.6409936, 4446964.34919836],\n",
       "      [-13337394.3654213, 4445350.06846127],\n",
       "      [-13338302.398336, 4444240.25045452],\n",
       "      [-13340387.5109547, 4444811.97488224],\n",
       "      [-13341161.0204745, 4445854.53119161],\n",
       "      [-13339244.0620993, 4447536.07362608]],\n",
       "     [[-13339075.9078558, 4446527.1481654],\n",
       "      [-13339748.5248296, 4445888.1620403],\n",
       "      [-13339210.4312506, 4445148.28336914],\n",
       "      [-13338336.0291846, 4445181.91421783],\n",
       "      [-13338167.8749412, 4446190.83967851],\n",
       "      [-13339075.9078558, 4446527.1481654]]]}},\n",
       "  {'attributes': {'OBJECTID': 4,\n",
       "    'gid': 4,\n",
       "    'name': 'simple with holes',\n",
       "    'Shape__Area': 19925991.2109375,\n",
       "    'Shape__Length': 35133.0106915916,\n",
       "    'report_date': 1635966000000,\n",
       "    'GlobalID': '108f9e43-d79d-4947-a5ce-481ef3537d08',\n",
       "    'CreationDate': 1636561296287,\n",
       "    'Creator': 'jrmatchett',\n",
       "    'EditDate': 1636561296287,\n",
       "    'Editor': 'jrmatchett'},\n",
       "   'geometry': {'rings': [[[-13347786.2976664, 4444442.03554666],\n",
       "      [-13344826.7829817, 4444946.498277],\n",
       "      [-13342371.7310274, 4443937.57281632],\n",
       "      [-13341732.7449023, 4442087.8761384],\n",
       "      [-13343784.2266723, 4439834.60927621],\n",
       "      [-13346911.8956004, 4440103.65606573],\n",
       "      [-13348627.0688836, 4442726.8622635],\n",
       "      [-13347786.2976664, 4444442.03554666]],\n",
       "     [[-13346710.1105083, 4443971.20366501],\n",
       "      [-13347584.5125742, 4443164.06329646],\n",
       "      [-13347012.7881465, 4442289.66123054],\n",
       "      [-13345835.7084424, 4442760.49311219],\n",
       "      [-13345869.3392911, 4443836.68027025],\n",
       "      [-13346710.1105083, 4443971.20366501]],\n",
       "     [[-13344154.1660079, 4443534.00263205],\n",
       "      [-13344389.5819487, 4442558.70802005],\n",
       "      [-13343313.3947907, 4441583.41340806],\n",
       "      [-13342539.8852708, 4442424.1846253],\n",
       "      [-13343010.7171525, 4443534.00263205],\n",
       "      [-13344154.1660079, 4443534.00263205]],\n",
       "     [[-13345499.3999555, 4442087.8761384],\n",
       "      [-13346474.6945675, 4440877.16558558],\n",
       "      [-13344692.2595869, 4440742.64219083],\n",
       "      [-13345499.3999555, 4442087.8761384]]]}},\n",
       "  {'attributes': {'OBJECTID': 5,\n",
       "    'gid': 5,\n",
       "    'name': 'multipart with holes',\n",
       "    'Shape__Area': 30015364.765625,\n",
       "    'Shape__Length': 61722.7325801205,\n",
       "    'report_date': 1636052400000,\n",
       "    'GlobalID': '77d62fe4-54f2-4ad1-bee3-1613e2759ca3',\n",
       "    'CreationDate': 1636561296287,\n",
       "    'Creator': 'jrmatchett',\n",
       "    'EditDate': 1636561296287,\n",
       "    'Editor': 'jrmatchett'},\n",
       "   'geometry': {'rings': [[[-13328953.0234375, 4446022.68554688],\n",
       "      [-13331408.0742188, 4446190.83984375],\n",
       "      [-13329726.53125, 4449453.03125],\n",
       "      [-13327136.9570313, 4448948.56835938],\n",
       "      [-13326632.4921875, 4447838.75195313],\n",
       "      [-13327271.4804688, 4446258.1015625],\n",
       "      [-13328953.0234375, 4446022.68554688]],\n",
       "     [[-13328314.0351563, 4447065.2421875],\n",
       "      [-13327876.8359375, 4447636.96679688],\n",
       "      [-13328112.25, 4448175.06054688],\n",
       "      [-13329255.6992188, 4448309.58398438],\n",
       "      [-13329625.640625, 4447199.765625],\n",
       "      [-13328314.0351563, 4447065.2421875]],\n",
       "     [[-13329188.4375, 4441549.78320313],\n",
       "      [-13331609.859375, 4441617.04492188],\n",
       "      [-13333055.984375, 4442659.59960938],\n",
       "      [-13331778.015625, 4444980.12890625],\n",
       "      [-13329793.7929688, 4445114.65234375],\n",
       "      [-13328213.1445313, 4443164.0625],\n",
       "      [-13329188.4375, 4441549.78320313]],\n",
       "     [[-13331172.6601563, 4442323.29296875],\n",
       "      [-13330163.734375, 4442323.29296875],\n",
       "      [-13329558.3789063, 4442659.59960938],\n",
       "      [-13329659.2695313, 4443466.74023438],\n",
       "      [-13331408.0742188, 4444139.35742188],\n",
       "      [-13331508.96875, 4443029.5390625],\n",
       "      [-13331172.6601563, 4442323.29296875]],\n",
       "     [[-13326632.4921875, 4441280.73632813],\n",
       "      [-13328044.9882813, 4441684.30664063],\n",
       "      [-13327305.109375, 4443735.78710938],\n",
       "      [-13328448.5585938, 4444879.23632813],\n",
       "      [-13327910.4648438, 4445619.11523438],\n",
       "      [-13325051.84375, 4445619.11523438],\n",
       "      [-13324211.0742188, 4443668.52539063],\n",
       "      [-13324883.6914063, 4442020.61523438],\n",
       "      [-13326632.4921875, 4441280.73632813]],\n",
       "     [[-13326901.5390625, 4441953.35351563],\n",
       "      [-13326027.1367188, 4441953.35351563],\n",
       "      [-13325556.3085938, 4442356.92382813],\n",
       "      [-13325556.3085938, 4442962.27734375],\n",
       "      [-13326195.2929688, 4443096.80078125],\n",
       "      [-13326800.6484375, 4442760.4921875],\n",
       "      [-13326901.5390625, 4441953.35351563]],\n",
       "     [[-13327002.4335938, 4444341.14257813],\n",
       "      [-13325892.6132813, 4444341.14257813],\n",
       "      [-13325287.2617188, 4444542.92773438],\n",
       "      [-13325589.9375, 4445081.02148438],\n",
       "      [-13327237.8476563, 4445047.390625],\n",
       "      [-13327002.4335938, 4444341.14257813]]]}}]}"
      ]
     },
     "execution_count": 8,
     "metadata": {},
     "output_type": "execute_result"
    }
   ],
   "source": [
    "test_polys.__dict__"
   ]
  },
  {
   "cell_type": "code",
   "execution_count": 14,
   "id": "f6ffe30f",
   "metadata": {},
   "outputs": [
    {
     "data": {
      "text/plain": [
       "[[[-13347483.6200282, 4451807.19140963],\n",
       "  [-13345600.2925015, 4452311.65413997],\n",
       "  [-13342338.1001787, 4450226.54152123],\n",
       "  [-13344658.6287382, 4446459.88646802],\n",
       "  [-13348223.4986993, 4448612.26078414],\n",
       "  [-13348223.4986993, 4448612.26078414],\n",
       "  [-13347483.6200282, 4451807.19140963]]]"
      ]
     },
     "execution_count": 14,
     "metadata": {},
     "output_type": "execute_result"
    }
   ],
   "source": [
    "test_polys.__dict__['features'][0]['geometry']['rings']"
   ]
  },
  {
   "cell_type": "code",
   "execution_count": null,
   "id": "60722a73",
   "metadata": {},
   "outputs": [],
   "source": []
  }
 ],
 "metadata": {
  "kernelspec": {
   "display_name": "Python 3 (ipykernel)",
   "language": "python",
   "name": "python3"
  },
  "language_info": {
   "codemirror_mode": {
    "name": "ipython",
    "version": 3
   },
   "file_extension": ".py",
   "mimetype": "text/x-python",
   "name": "python",
   "nbconvert_exporter": "python",
   "pygments_lexer": "ipython3",
   "version": "3.8.12"
  }
 },
 "nbformat": 4,
 "nbformat_minor": 5
}
